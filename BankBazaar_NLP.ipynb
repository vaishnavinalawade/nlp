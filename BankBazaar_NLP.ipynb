{
 "cells": [
  {
   "cell_type": "markdown",
   "metadata": {},
   "source": [
    "### NATURAL LANGUAGE PROCESSING"
   ]
  },
  {
   "cell_type": "markdown",
   "metadata": {},
   "source": [
    "#### Load the reviews in the form of HTML files"
   ]
  },
  {
   "cell_type": "code",
   "execution_count": 1,
   "metadata": {},
   "outputs": [],
   "source": [
    "import glob"
   ]
  },
  {
   "cell_type": "code",
   "execution_count": 2,
   "metadata": {},
   "outputs": [],
   "source": [
    "html_files = glob.glob(r\".\\BankBazaarData\\*.html\")"
   ]
  },
  {
   "cell_type": "code",
   "execution_count": 3,
   "metadata": {},
   "outputs": [],
   "source": [
    "import codecs"
   ]
  },
  {
   "cell_type": "code",
   "execution_count": 4,
   "metadata": {},
   "outputs": [],
   "source": [
    "S = \" \""
   ]
  },
  {
   "cell_type": "code",
   "execution_count": 5,
   "metadata": {},
   "outputs": [],
   "source": [
    "html_array = []"
   ]
  },
  {
   "cell_type": "code",
   "execution_count": 6,
   "metadata": {},
   "outputs": [],
   "source": [
    "for file in html_files:\n",
    "    f = codecs.open(file, \"r\")\n",
    "    html_array.append(f.read())"
   ]
  },
  {
   "cell_type": "code",
   "execution_count": 7,
   "metadata": {},
   "outputs": [],
   "source": [
    "html = S.join(html_array)"
   ]
  },
  {
   "cell_type": "code",
   "execution_count": 8,
   "metadata": {},
   "outputs": [
    {
     "data": {
      "text/plain": [
       "496"
      ]
     },
     "execution_count": 8,
     "metadata": {},
     "output_type": "execute_result"
    }
   ],
   "source": [
    "html.count(\"text_here review-desc-more\")"
   ]
  },
  {
   "cell_type": "markdown",
   "metadata": {},
   "source": [
    "#### Parse the reviews using BeautifulSoup"
   ]
  },
  {
   "cell_type": "code",
   "execution_count": 9,
   "metadata": {},
   "outputs": [],
   "source": [
    "from bs4 import BeautifulSoup"
   ]
  },
  {
   "cell_type": "code",
   "execution_count": 10,
   "metadata": {},
   "outputs": [],
   "source": [
    "parsed_html = BeautifulSoup(html, \"html.parser\")"
   ]
  },
  {
   "cell_type": "code",
   "execution_count": 11,
   "metadata": {},
   "outputs": [],
   "source": [
    "reviews = parsed_html.find_all('div', attrs = {'class':\"text_here review-desc-more\", 'itemprop':\"description\"})"
   ]
  },
  {
   "cell_type": "code",
   "execution_count": 12,
   "metadata": {},
   "outputs": [],
   "source": [
    "rating_div = parsed_html.find_all('div', attrs = {'class':\"medium-rating rating review-score-container\"})\n",
    "rating = []\n",
    "for i in range(0, len(rating_div)):\n",
    "    rating.append(rating_div[i].find('input')['value'])"
   ]
  },
  {
   "cell_type": "markdown",
   "metadata": {},
   "source": [
    "#### Another way to find rating\n",
    "rating_li = parsed_html.find_all('li', attrs = {'class':\"review-box\"}) \n",
    "\n",
    "rating=[]\n",
    "\n",
    "for i in range(0, len(rating_li)):\n",
    "    rating.append(rating_li[i].select_one('div:nth-of-type(3) > span').select_one('span:nth-of-type(2)').text)"
   ]
  },
  {
   "cell_type": "code",
   "execution_count": 13,
   "metadata": {},
   "outputs": [],
   "source": [
    "import re"
   ]
  },
  {
   "cell_type": "code",
   "execution_count": 14,
   "metadata": {},
   "outputs": [],
   "source": [
    "def cleanhtml(raw_html):\n",
    "    clean = re.compile('<.*?>')\n",
    "    cleantext = re.sub(clean, '', raw_html)\n",
    "    return cleantext"
   ]
  },
  {
   "cell_type": "code",
   "execution_count": 15,
   "metadata": {},
   "outputs": [],
   "source": [
    "review = []\n",
    "for i in range(0, len(reviews)):\n",
    "    review.append(cleanhtml(reviews[i].text))"
   ]
  },
  {
   "cell_type": "markdown",
   "metadata": {},
   "source": [
    "#### Convert data into dataframes"
   ]
  },
  {
   "cell_type": "code",
   "execution_count": 16,
   "metadata": {},
   "outputs": [],
   "source": [
    "import pandas as pd"
   ]
  },
  {
   "cell_type": "code",
   "execution_count": 17,
   "metadata": {},
   "outputs": [],
   "source": [
    "Reviews_df = pd.DataFrame({'Reviews':review, 'Ratings':rating})"
   ]
  },
  {
   "cell_type": "code",
   "execution_count": 18,
   "metadata": {},
   "outputs": [],
   "source": [
    "Reviews_df = Reviews_df.replace({r'\\s+$':'', r'^\\s+':''}, regex = True).replace(r'\\n','',regex=True)"
   ]
  },
  {
   "cell_type": "code",
   "execution_count": 19,
   "metadata": {},
   "outputs": [],
   "source": [
    "Reviews_df.drop_duplicates(inplace=True)"
   ]
  },
  {
   "cell_type": "code",
   "execution_count": 20,
   "metadata": {},
   "outputs": [
    {
     "data": {
      "text/html": [
       "<div>\n",
       "<style scoped>\n",
       "    .dataframe tbody tr th:only-of-type {\n",
       "        vertical-align: middle;\n",
       "    }\n",
       "\n",
       "    .dataframe tbody tr th {\n",
       "        vertical-align: top;\n",
       "    }\n",
       "\n",
       "    .dataframe thead th {\n",
       "        text-align: right;\n",
       "    }\n",
       "</style>\n",
       "<table border=\"1\" class=\"dataframe\">\n",
       "  <thead>\n",
       "    <tr style=\"text-align: right;\">\n",
       "      <th></th>\n",
       "      <th>Reviews</th>\n",
       "      <th>Ratings</th>\n",
       "    </tr>\n",
       "  </thead>\n",
       "  <tbody>\n",
       "    <tr>\n",
       "      <th>0</th>\n",
       "      <td>My kotak mahindra personal loan was taken thro...</td>\n",
       "      <td>4.0</td>\n",
       "    </tr>\n",
       "    <tr>\n",
       "      <th>1</th>\n",
       "      <td>VIJAYA Bank offered me a personal loan and the...</td>\n",
       "      <td>5.0</td>\n",
       "    </tr>\n",
       "    <tr>\n",
       "      <th>2</th>\n",
       "      <td>I have taken Incred personal loan through onli...</td>\n",
       "      <td>5.0</td>\n",
       "    </tr>\n",
       "    <tr>\n",
       "      <th>3</th>\n",
       "      <td>I did not face any issues with Incred. The rat...</td>\n",
       "      <td>4.0</td>\n",
       "    </tr>\n",
       "    <tr>\n",
       "      <th>4</th>\n",
       "      <td>Since  I'm in need of money so i have taken th...</td>\n",
       "      <td>5.0</td>\n",
       "    </tr>\n",
       "    <tr>\n",
       "      <th>5</th>\n",
       "      <td>My personal  loan was sanctioned on time by Ta...</td>\n",
       "      <td>4.0</td>\n",
       "    </tr>\n",
       "    <tr>\n",
       "      <th>6</th>\n",
       "      <td>I got a personal loan offer from Bajaj finance...</td>\n",
       "      <td>2.0</td>\n",
       "    </tr>\n",
       "    <tr>\n",
       "      <th>7</th>\n",
       "      <td>I have applied the personal loan through onlin...</td>\n",
       "      <td>4.0</td>\n",
       "    </tr>\n",
       "    <tr>\n",
       "      <th>8</th>\n",
       "      <td>ICICI is taking much more percentage on the in...</td>\n",
       "      <td>2.0</td>\n",
       "    </tr>\n",
       "    <tr>\n",
       "      <th>9</th>\n",
       "      <td>HDFC personal loan services are quite good whe...</td>\n",
       "      <td>5.0</td>\n",
       "    </tr>\n",
       "  </tbody>\n",
       "</table>\n",
       "</div>"
      ],
      "text/plain": [
       "                                             Reviews Ratings\n",
       "0  My kotak mahindra personal loan was taken thro...     4.0\n",
       "1  VIJAYA Bank offered me a personal loan and the...     5.0\n",
       "2  I have taken Incred personal loan through onli...     5.0\n",
       "3  I did not face any issues with Incred. The rat...     4.0\n",
       "4  Since  I'm in need of money so i have taken th...     5.0\n",
       "5  My personal  loan was sanctioned on time by Ta...     4.0\n",
       "6  I got a personal loan offer from Bajaj finance...     2.0\n",
       "7  I have applied the personal loan through onlin...     4.0\n",
       "8  ICICI is taking much more percentage on the in...     2.0\n",
       "9  HDFC personal loan services are quite good whe...     5.0"
      ]
     },
     "execution_count": 20,
     "metadata": {},
     "output_type": "execute_result"
    }
   ],
   "source": [
    "Reviews_df.head(10)"
   ]
  },
  {
   "cell_type": "code",
   "execution_count": 21,
   "metadata": {},
   "outputs": [
    {
     "data": {
      "text/plain": [
       "Reviews    483\n",
       "Ratings    483\n",
       "dtype: int64"
      ]
     },
     "execution_count": 21,
     "metadata": {},
     "output_type": "execute_result"
    }
   ],
   "source": [
    "Reviews_df.count()"
   ]
  },
  {
   "cell_type": "code",
   "execution_count": 22,
   "metadata": {},
   "outputs": [
    {
     "data": {
      "text/plain": [
       "Reviews    object\n",
       "Ratings    object\n",
       "dtype: object"
      ]
     },
     "execution_count": 22,
     "metadata": {},
     "output_type": "execute_result"
    }
   ],
   "source": [
    "Reviews_df.dtypes"
   ]
  },
  {
   "cell_type": "code",
   "execution_count": 23,
   "metadata": {},
   "outputs": [],
   "source": [
    "Reviews_df['Ratings'] = Reviews_df['Ratings'].astype(float)"
   ]
  },
  {
   "cell_type": "code",
   "execution_count": 24,
   "metadata": {},
   "outputs": [
    {
     "data": {
      "text/plain": [
       "Reviews     object\n",
       "Ratings    float64\n",
       "dtype: object"
      ]
     },
     "execution_count": 24,
     "metadata": {},
     "output_type": "execute_result"
    }
   ],
   "source": [
    "Reviews_df.dtypes"
   ]
  },
  {
   "cell_type": "markdown",
   "metadata": {},
   "source": [
    "#### Calculate Sentiment"
   ]
  },
  {
   "cell_type": "code",
   "execution_count": 25,
   "metadata": {},
   "outputs": [],
   "source": [
    "def calc_sentiment(reviews):\n",
    "    if reviews['Ratings']<4.0:\n",
    "        return 0 #Negative Sentiment\n",
    "    else:\n",
    "        return 1 #Positive Sentiment"
   ]
  },
  {
   "cell_type": "code",
   "execution_count": 26,
   "metadata": {},
   "outputs": [],
   "source": [
    "Reviews_df['Sentiment']= Reviews_df.apply(calc_sentiment, axis=1)"
   ]
  },
  {
   "cell_type": "code",
   "execution_count": 27,
   "metadata": {},
   "outputs": [
    {
     "data": {
      "text/html": [
       "<div>\n",
       "<style scoped>\n",
       "    .dataframe tbody tr th:only-of-type {\n",
       "        vertical-align: middle;\n",
       "    }\n",
       "\n",
       "    .dataframe tbody tr th {\n",
       "        vertical-align: top;\n",
       "    }\n",
       "\n",
       "    .dataframe thead th {\n",
       "        text-align: right;\n",
       "    }\n",
       "</style>\n",
       "<table border=\"1\" class=\"dataframe\">\n",
       "  <thead>\n",
       "    <tr style=\"text-align: right;\">\n",
       "      <th></th>\n",
       "      <th>Reviews</th>\n",
       "      <th>Ratings</th>\n",
       "      <th>Sentiment</th>\n",
       "    </tr>\n",
       "  </thead>\n",
       "  <tbody>\n",
       "    <tr>\n",
       "      <th>0</th>\n",
       "      <td>My kotak mahindra personal loan was taken thro...</td>\n",
       "      <td>4.0</td>\n",
       "      <td>1</td>\n",
       "    </tr>\n",
       "    <tr>\n",
       "      <th>1</th>\n",
       "      <td>VIJAYA Bank offered me a personal loan and the...</td>\n",
       "      <td>5.0</td>\n",
       "      <td>1</td>\n",
       "    </tr>\n",
       "    <tr>\n",
       "      <th>2</th>\n",
       "      <td>I have taken Incred personal loan through onli...</td>\n",
       "      <td>5.0</td>\n",
       "      <td>1</td>\n",
       "    </tr>\n",
       "    <tr>\n",
       "      <th>3</th>\n",
       "      <td>I did not face any issues with Incred. The rat...</td>\n",
       "      <td>4.0</td>\n",
       "      <td>1</td>\n",
       "    </tr>\n",
       "    <tr>\n",
       "      <th>4</th>\n",
       "      <td>Since  I'm in need of money so i have taken th...</td>\n",
       "      <td>5.0</td>\n",
       "      <td>1</td>\n",
       "    </tr>\n",
       "    <tr>\n",
       "      <th>5</th>\n",
       "      <td>My personal  loan was sanctioned on time by Ta...</td>\n",
       "      <td>4.0</td>\n",
       "      <td>1</td>\n",
       "    </tr>\n",
       "    <tr>\n",
       "      <th>6</th>\n",
       "      <td>I got a personal loan offer from Bajaj finance...</td>\n",
       "      <td>2.0</td>\n",
       "      <td>0</td>\n",
       "    </tr>\n",
       "    <tr>\n",
       "      <th>7</th>\n",
       "      <td>I have applied the personal loan through onlin...</td>\n",
       "      <td>4.0</td>\n",
       "      <td>1</td>\n",
       "    </tr>\n",
       "    <tr>\n",
       "      <th>8</th>\n",
       "      <td>ICICI is taking much more percentage on the in...</td>\n",
       "      <td>2.0</td>\n",
       "      <td>0</td>\n",
       "    </tr>\n",
       "    <tr>\n",
       "      <th>9</th>\n",
       "      <td>HDFC personal loan services are quite good whe...</td>\n",
       "      <td>5.0</td>\n",
       "      <td>1</td>\n",
       "    </tr>\n",
       "  </tbody>\n",
       "</table>\n",
       "</div>"
      ],
      "text/plain": [
       "                                             Reviews  Ratings  Sentiment\n",
       "0  My kotak mahindra personal loan was taken thro...      4.0          1\n",
       "1  VIJAYA Bank offered me a personal loan and the...      5.0          1\n",
       "2  I have taken Incred personal loan through onli...      5.0          1\n",
       "3  I did not face any issues with Incred. The rat...      4.0          1\n",
       "4  Since  I'm in need of money so i have taken th...      5.0          1\n",
       "5  My personal  loan was sanctioned on time by Ta...      4.0          1\n",
       "6  I got a personal loan offer from Bajaj finance...      2.0          0\n",
       "7  I have applied the personal loan through onlin...      4.0          1\n",
       "8  ICICI is taking much more percentage on the in...      2.0          0\n",
       "9  HDFC personal loan services are quite good whe...      5.0          1"
      ]
     },
     "execution_count": 27,
     "metadata": {},
     "output_type": "execute_result"
    }
   ],
   "source": [
    "Reviews_df.head(10)"
   ]
  },
  {
   "cell_type": "markdown",
   "metadata": {},
   "source": [
    "#### Save data in form  of csv"
   ]
  },
  {
   "cell_type": "code",
   "execution_count": 28,
   "metadata": {},
   "outputs": [],
   "source": [
    "Reviews_df.to_csv(\"BankBazaar_Reviews.csv\")"
   ]
  },
  {
   "cell_type": "markdown",
   "metadata": {},
   "source": [
    "#### Split the data into training and test set"
   ]
  },
  {
   "cell_type": "code",
   "execution_count": 29,
   "metadata": {},
   "outputs": [],
   "source": [
    "text, y = Reviews_df.Reviews, Reviews_df.Sentiment"
   ]
  },
  {
   "cell_type": "code",
   "execution_count": 30,
   "metadata": {},
   "outputs": [],
   "source": [
    "from sklearn.model_selection import train_test_split"
   ]
  },
  {
   "cell_type": "code",
   "execution_count": 31,
   "metadata": {},
   "outputs": [],
   "source": [
    "text_train, text_test, y_train, y_test = train_test_split(text, y, test_size=0.33, random_state=42)"
   ]
  },
  {
   "cell_type": "markdown",
   "metadata": {},
   "source": [
    "#### Explore training and test data"
   ]
  },
  {
   "cell_type": "code",
   "execution_count": 32,
   "metadata": {},
   "outputs": [],
   "source": [
    "import numpy as np"
   ]
  },
  {
   "cell_type": "code",
   "execution_count": 33,
   "metadata": {},
   "outputs": [
    {
     "data": {
      "text/plain": [
       "array([0, 1], dtype=int64)"
      ]
     },
     "execution_count": 33,
     "metadata": {},
     "output_type": "execute_result"
    }
   ],
   "source": [
    "np.unique(y_train)"
   ]
  },
  {
   "cell_type": "code",
   "execution_count": 34,
   "metadata": {},
   "outputs": [
    {
     "data": {
      "text/plain": [
       "array([0, 1], dtype=int64)"
      ]
     },
     "execution_count": 34,
     "metadata": {},
     "output_type": "execute_result"
    }
   ],
   "source": [
    "np.unique(y_test)"
   ]
  },
  {
   "cell_type": "code",
   "execution_count": 35,
   "metadata": {},
   "outputs": [
    {
     "name": "stdout",
     "output_type": "stream",
     "text": [
      "Samples per Sentiment (training): [ 83 240]\n"
     ]
    }
   ],
   "source": [
    "print(\"Samples per Sentiment (training): {}\".format(np.bincount(y_train)))"
   ]
  },
  {
   "cell_type": "code",
   "execution_count": 36,
   "metadata": {},
   "outputs": [
    {
     "name": "stdout",
     "output_type": "stream",
     "text": [
      "Samples per Sentiment (testing): [ 30 130]\n"
     ]
    }
   ],
   "source": [
    "print(\"Samples per Sentiment (testing): {}\".format(np.bincount(y_test)))"
   ]
  },
  {
   "cell_type": "markdown",
   "metadata": {},
   "source": [
    "#### Bag of Words"
   ]
  },
  {
   "cell_type": "code",
   "execution_count": 37,
   "metadata": {},
   "outputs": [],
   "source": [
    "from sklearn.feature_extraction.text import TfidfVectorizer"
   ]
  },
  {
   "cell_type": "code",
   "execution_count": 38,
   "metadata": {},
   "outputs": [],
   "source": [
    "def tfidf_extractor(corpus, ngram_range=(1,1)):\n",
    "    vectorizer = TfidfVectorizer()\n",
    "    features = vectorizer.fit_transform(corpus)\n",
    "    return vectorizer, features"
   ]
  },
  {
   "cell_type": "code",
   "execution_count": 39,
   "metadata": {},
   "outputs": [],
   "source": [
    "tfidf_vectorizer, tfidf_train_features = tfidf_extractor(text_train)"
   ]
  },
  {
   "cell_type": "code",
   "execution_count": 40,
   "metadata": {},
   "outputs": [],
   "source": [
    "tfidf_test_features = tfidf_vectorizer.transform(text_test)"
   ]
  },
  {
   "cell_type": "code",
   "execution_count": 41,
   "metadata": {},
   "outputs": [
    {
     "data": {
      "text/plain": [
       "<323x1094 sparse matrix of type '<class 'numpy.float64'>'\n",
       "\twith 14093 stored elements in Compressed Sparse Row format>"
      ]
     },
     "execution_count": 41,
     "metadata": {},
     "output_type": "execute_result"
    }
   ],
   "source": [
    "tfidf_train_features"
   ]
  },
  {
   "cell_type": "code",
   "execution_count": 42,
   "metadata": {},
   "outputs": [
    {
     "data": {
      "text/plain": [
       "<160x1094 sparse matrix of type '<class 'numpy.float64'>'\n",
       "\twith 6724 stored elements in Compressed Sparse Row format>"
      ]
     },
     "execution_count": 42,
     "metadata": {},
     "output_type": "execute_result"
    }
   ],
   "source": [
    "tfidf_test_features"
   ]
  },
  {
   "cell_type": "markdown",
   "metadata": {},
   "source": [
    "#### Print the metrics"
   ]
  },
  {
   "cell_type": "code",
   "execution_count": 43,
   "metadata": {},
   "outputs": [],
   "source": [
    "from sklearn import metrics"
   ]
  },
  {
   "cell_type": "code",
   "execution_count": 44,
   "metadata": {},
   "outputs": [],
   "source": [
    "def get_metrics(true_labels, predicted_labels):\n",
    "    print(\"Accuracy :\", np.round(metrics.accuracy_score(true_labels, predicted_labels),2))\n",
    "    print(\"Precision:\", np.round(metrics.precision_score(true_labels, predicted_labels,average='weighted'),2))\n",
    "    print(\"Recall:\", np.round(metrics.recall_score(true_labels, predicted_labels, average='weighted'),2))\n",
    "    print(\"F1 Score:\", np.round(metrics.f1_score(true_labels, predicted_labels, average='weighted'),2))"
   ]
  },
  {
   "cell_type": "code",
   "execution_count": 45,
   "metadata": {},
   "outputs": [],
   "source": [
    "def train_predict_evaluate_model(classifier, train_features, train_labels, test_features, test_labels):\n",
    "    classifier.fit(train_features, train_labels)\n",
    "    predictions =  classifier.predict(test_features)\n",
    "    get_metrics(true_labels=test_labels, predicted_labels=predictions)\n",
    "    return predictions"
   ]
  },
  {
   "cell_type": "markdown",
   "metadata": {},
   "source": [
    "#### Multinomial Naive Bayes with TFIDF Features"
   ]
  },
  {
   "cell_type": "code",
   "execution_count": 46,
   "metadata": {},
   "outputs": [],
   "source": [
    "from sklearn.naive_bayes import MultinomialNB"
   ]
  },
  {
   "cell_type": "code",
   "execution_count": 47,
   "metadata": {},
   "outputs": [],
   "source": [
    "mnb_best = MultinomialNB(alpha=0.001, fit_prior=True)"
   ]
  },
  {
   "cell_type": "code",
   "execution_count": 48,
   "metadata": {},
   "outputs": [
    {
     "name": "stdout",
     "output_type": "stream",
     "text": [
      "Accuracy : 0.76\n",
      "Precision: 0.72\n",
      "Recall: 0.76\n",
      "F1 Score: 0.73\n"
     ]
    }
   ],
   "source": [
    "mnb_tfidf_predictions = train_predict_evaluate_model(classifier = mnb_best, train_features=tfidf_train_features, train_labels=y_train, test_features=tfidf_test_features, test_labels = y_test)"
   ]
  },
  {
   "cell_type": "markdown",
   "metadata": {},
   "source": [
    "#### SVM with TFIDF Features"
   ]
  },
  {
   "cell_type": "code",
   "execution_count": 49,
   "metadata": {},
   "outputs": [],
   "source": [
    "from sklearn.svm import SVC"
   ]
  },
  {
   "cell_type": "code",
   "execution_count": 50,
   "metadata": {},
   "outputs": [],
   "source": [
    "svm_best = SVC(probability=True, kernel='rbf')"
   ]
  },
  {
   "cell_type": "code",
   "execution_count": 51,
   "metadata": {},
   "outputs": [
    {
     "name": "stderr",
     "output_type": "stream",
     "text": [
      "C:\\Users\\Vaish\\Anaconda3\\lib\\site-packages\\sklearn\\svm\\base.py:193: FutureWarning: The default value of gamma will change from 'auto' to 'scale' in version 0.22 to account better for unscaled features. Set gamma explicitly to 'auto' or 'scale' to avoid this warning.\n",
      "  \"avoid this warning.\", FutureWarning)\n"
     ]
    },
    {
     "name": "stdout",
     "output_type": "stream",
     "text": [
      "Accuracy : 0.81\n",
      "Precision: 0.66\n",
      "Recall: 0.81\n",
      "F1 Score: 0.73\n"
     ]
    },
    {
     "name": "stderr",
     "output_type": "stream",
     "text": [
      "C:\\Users\\Vaish\\Anaconda3\\lib\\site-packages\\sklearn\\metrics\\classification.py:1437: UndefinedMetricWarning: Precision is ill-defined and being set to 0.0 in labels with no predicted samples.\n",
      "  'precision', 'predicted', average, warn_for)\n",
      "C:\\Users\\Vaish\\Anaconda3\\lib\\site-packages\\sklearn\\metrics\\classification.py:1437: UndefinedMetricWarning: F-score is ill-defined and being set to 0.0 in labels with no predicted samples.\n",
      "  'precision', 'predicted', average, warn_for)\n"
     ]
    }
   ],
   "source": [
    "svm_tfidf_predictions = train_predict_evaluate_model(classifier = svm_best, train_features=tfidf_train_features, train_labels=y_train, test_features=tfidf_test_features, test_labels = y_test)"
   ]
  },
  {
   "cell_type": "markdown",
   "metadata": {},
   "source": [
    "#### Confusion Matrix"
   ]
  },
  {
   "cell_type": "code",
   "execution_count": 52,
   "metadata": {},
   "outputs": [],
   "source": [
    "cm = metrics.confusion_matrix(y_test, mnb_tfidf_predictions)"
   ]
  },
  {
   "cell_type": "code",
   "execution_count": 53,
   "metadata": {},
   "outputs": [
    {
     "data": {
      "text/html": [
       "<div>\n",
       "<style scoped>\n",
       "    .dataframe tbody tr th:only-of-type {\n",
       "        vertical-align: middle;\n",
       "    }\n",
       "\n",
       "    .dataframe tbody tr th {\n",
       "        vertical-align: top;\n",
       "    }\n",
       "\n",
       "    .dataframe thead th {\n",
       "        text-align: right;\n",
       "    }\n",
       "</style>\n",
       "<table border=\"1\" class=\"dataframe\">\n",
       "  <thead>\n",
       "    <tr style=\"text-align: right;\">\n",
       "      <th></th>\n",
       "      <th>0</th>\n",
       "      <th>1</th>\n",
       "    </tr>\n",
       "  </thead>\n",
       "  <tbody>\n",
       "    <tr>\n",
       "      <th>0</th>\n",
       "      <td>5</td>\n",
       "      <td>25</td>\n",
       "    </tr>\n",
       "    <tr>\n",
       "      <th>1</th>\n",
       "      <td>14</td>\n",
       "      <td>116</td>\n",
       "    </tr>\n",
       "  </tbody>\n",
       "</table>\n",
       "</div>"
      ],
      "text/plain": [
       "    0    1\n",
       "0   5   25\n",
       "1  14  116"
      ]
     },
     "execution_count": 53,
     "metadata": {},
     "output_type": "execute_result"
    }
   ],
   "source": [
    "pd.DataFrame(cm, index=range(0,2), columns = range(0,2))"
   ]
  },
  {
   "cell_type": "code",
   "execution_count": 54,
   "metadata": {},
   "outputs": [],
   "source": [
    "cm_svm = metrics.confusion_matrix(y_test, svm_tfidf_predictions)"
   ]
  },
  {
   "cell_type": "code",
   "execution_count": 55,
   "metadata": {},
   "outputs": [
    {
     "data": {
      "text/html": [
       "<div>\n",
       "<style scoped>\n",
       "    .dataframe tbody tr th:only-of-type {\n",
       "        vertical-align: middle;\n",
       "    }\n",
       "\n",
       "    .dataframe tbody tr th {\n",
       "        vertical-align: top;\n",
       "    }\n",
       "\n",
       "    .dataframe thead th {\n",
       "        text-align: right;\n",
       "    }\n",
       "</style>\n",
       "<table border=\"1\" class=\"dataframe\">\n",
       "  <thead>\n",
       "    <tr style=\"text-align: right;\">\n",
       "      <th></th>\n",
       "      <th>0</th>\n",
       "      <th>1</th>\n",
       "    </tr>\n",
       "  </thead>\n",
       "  <tbody>\n",
       "    <tr>\n",
       "      <th>0</th>\n",
       "      <td>5</td>\n",
       "      <td>25</td>\n",
       "    </tr>\n",
       "    <tr>\n",
       "      <th>1</th>\n",
       "      <td>14</td>\n",
       "      <td>116</td>\n",
       "    </tr>\n",
       "  </tbody>\n",
       "</table>\n",
       "</div>"
      ],
      "text/plain": [
       "    0    1\n",
       "0   5   25\n",
       "1  14  116"
      ]
     },
     "execution_count": 55,
     "metadata": {},
     "output_type": "execute_result"
    }
   ],
   "source": [
    "pd.DataFrame(cm, index=range(0,2), columns = range(0,2))"
   ]
  },
  {
   "cell_type": "markdown",
   "metadata": {},
   "source": [
    "#### Incorrect Predictions"
   ]
  },
  {
   "cell_type": "code",
   "execution_count": 56,
   "metadata": {},
   "outputs": [
    {
     "name": "stdout",
     "output_type": "stream",
     "text": [
      "*****[0 - Negative, 1 - Positive]*****\n",
      "Actual Label: 1\n",
      "Predicted Label: 0\n",
      "Review: I have applied for HDFC Bank personal loan through online .I was unable to avail this loan since don't have current address proof with me .I have not submitted any of my documents to the agent. The service was really good but due to documentation this loan was not processed.\n",
      "Actual Label: 1\n",
      "Predicted Label: 0\n",
      "Review: I was applied a personal loan from HDFC Bank through online. The rate of interest was very high,  according to monthly installment od  17% which is high,  so they  need to decrease it,  that's is the reason I closed this application.  The customer service and responsiveness was good.\n",
      "Actual Label: 1\n",
      "Predicted Label: 0\n",
      "Review: I have approached HDFC Bank for my personal loan through online .I have not availed this loan since don't have current address proof. The rate of interest  and the processing fee was not an issue. I have not submitted any of my documents. There was proper notification from bank end.\n",
      "Actual Label: 0\n",
      "Predicted Label: 1\n",
      "Review: I took a personal loan from Bajaj Finance but they are providing me a higher interest rate. It was a hassle free process so that i opted the personal loan with Bajaj Finance. I got the flat rate of interest 18% per annum. Loan documentation are collected physically through the executive. If they reduce the interest rate, it would be fine.\n",
      "Actual Label: 0\n",
      "Predicted Label: 1\n",
      "Review: Axis bank service is really worst because they have not deduct the first month EMI through ECS hence my cheque not bounced. They have limited branches for loan services and the crowd will be more. I have closed the loan within 6 months by paying some pre-closure charges. Their interest rate is very high which is 22% per annum.\n",
      "Actual Label: 0\n",
      "Predicted Label: 1\n",
      "Review: I have availed personal loan directly through Bajaj Finserv.The rate of interest and the processing fee was very high .I need to pay 6 more EMI to close this loan.This loan was sanctioned very quickly  and got the loan amount less than 24hours.I am paying the premium on time without any delay.\n",
      "Actual Label: 0\n",
      "Predicted Label: 1\n",
      "Review: For the marriage purpose, i have taken this loan. I like the HDFC bank but they have sanctioned me very less amount hence i have availed the loan with TATA Capital. They have provided me a loan amount of Rs. 1.50 lakhs and got the interest rate of 18% which is quite higher anyway its acceptable. Part payment and pre-closure is available after 6 months.\n",
      "Actual Label: 0\n",
      "Predicted Label: 1\n",
      "Review: I have taken a personal loan from SHUBH and the loan amount was Rs. 92k. The rate of interest was high 24% and i am paying EMI of Rs.5300 with the tenure of  2 years. Documentation was very simple and executive collected then i received the loan within a week, customer service was good.\n",
      "Actual Label: 0\n",
      "Predicted Label: 1\n",
      "Review: I have taken personal loan through Bajaj Finserv directly. Everything was good to me when applied for this loan but the rate of interest and  the processing fee was very high. This loan was taken for my personal use and the service was very average.\n",
      "Actual Label: 0\n",
      "Predicted Label: 1\n",
      "Review: I was looking for a loan in a emergency basis and i found Incred service is good. I have taken a loan amount of Rs. 75K but the interest rates are quite high which is  18%. As per their promised time, they have sanctioned the loan and they have collected the required documents.\n",
      "Actual Label: 1\n",
      "Predicted Label: 0\n",
      "Review: Actually I have applied the personal loan with INCRED for  first time they have rejected the loan after that they have contacted me and ready to provide the loan with the interest rate of 32% which is too high. There is no way of contacting them and after collecting the documents they have not informed me about the interest rate. They have done a proper follow up and the process is fine for me. The  loan service also useful for me.\n",
      "Actual Label: 0\n",
      "Predicted Label: 1\n",
      "Review: I have taken personal loan through HDFC Bank through online .The rate of interest and the processing fee was nominal .The loan process was clearly explained by the agent .This loan was sanctioned on correct time and i have taken this loa for personal use .I have submitted the documents through the agent only.\n",
      "Actual Label: 0\n",
      "Predicted Label: 1\n",
      "Review: Its because of the lowest interest rate, i have taken the loan amount from HDFC. I got the loan amount of Rs. 1 lakh but i had applied for Rs. 4.5 lakhs and they haven't informed me about the reason of the less disbursal. They gave me a interest rate of 10.75%.  I have been paying the EMI amount of Rs. 2000 for the duration of 2 years.\n",
      "Actual Label: 0\n",
      "Predicted Label: 1\n",
      "Review: I have applied HDFC Bank personal loan through online. Actually i am having one personal loan which is active and also the rate of interest was very high compare to other bank, so i closed this application. I received a call from the executive regarding the document collection but it doesn't happen hence have approached other banks.\n",
      "Actual Label: 0\n",
      "Predicted Label: 1\n",
      "Review: I am not satisfied with SBI service. I have taken a personal loan on 3 months back, I got this loan offer from bank. The loan amount was sanctioned of 3.5L with tenure period of  5 years. The rate of interest is nominal and fee was applicable of  3,500 rupees.  Through mobile app processed was done for the loan. EMI need to pay of  6,500 rupees.\n",
      "Actual Label: 1\n",
      "Predicted Label: 0\n",
      "Review: I have my existing loan in Bank since the loan process is in online hence its easy to apply so that i had applied the personal loan from Incred. Took the loan amount of Rs. 1.45 lakhs and they charged me a interest rate of 32%. I have chosen the duration of 2 years to close this loan. I need to pay the EMI amount of Rs. 8257.\n",
      "Actual Label: 0\n",
      "Predicted Label: 1\n",
      "Review: My personal loan was taken from IDFC bank because they have given me a good offer with the nominal interest rate hence i have accepted the same. Took the loan amount of Rs. 2.5 lakhs and the interest rate was 13%. I have selected the duration of 3 years. I paid the EMI amount of Rs. 8000 per month. The amount was deducted through ECS option. There was a lots of delay in paper work and they have not sanctioned the loan within that particular period.\n",
      "Actual Label: 0\n",
      "Predicted Label: 1\n",
      "Review: I have taken personal loan through Home credit India Finance private limited .This loan was sanctioned on time and the rate of interest and the processing fee was very high .The premium is paid on EMI basis and the loan details was clearly shared by the agent .According to my experience the service was average.\n",
      "Actual Label: 0\n",
      "Predicted Label: 1\n",
      "Review: I have not faced any issues  when applied for this incred personal loan .The rate of interest and the processing was too high .I have got the update from agent the rate of interest will be less  and later it s high 32%.The loan got sanctioned on time  without any hassles .The agent shared all the information about the loan process.I have  uploaded my documents  as well as submitted .\n",
      "Actual Label: 0\n",
      "Predicted Label: 1\n",
      "Review: In Axis bank, they have offered me a interest rate of 12.49% and Axis bank does not interacted with me properly because they have provided 10.49% as a interest before taking the loan and they were not ready to provide the loan amount what i applied. In the loan application, they have mentioned the different interest hence the promised words are not met. They do have part payment facility with a free of cost.\n",
      "Actual Label: 0\n",
      "Predicted Label: 1\n",
      "Review: I have taken personal loan through indusind bank .Mobile app is not working properly and the agent gave a clear picture about the loan process .The rate of interest and the processing fee was nominal .This loan was taken for personal use and this loan was sanctioned on delay basis .There was proper callback and follow up from bank end as well as online .\n",
      "Actual Label: 1\n",
      "Predicted Label: 0\n",
      "Review: Its because of the less interest rate when i compared to others so that i opted the personal loan with TATA Capital. They have provided me a rate of interest rate of 17.25%. I got the loan amount of Rs. 1.79 lakhs and they have provided me a duration of 4 years. I am paying the EMI amount of 5,550 rupees.\n",
      "Actual Label: 0\n",
      "Predicted Label: 1\n",
      "Review: The rate of interest is high 18% which I have taken a personal loan from IDFC bank on 4 years back. The tenure period of 5 years with sufficient amount. At that time when I applied in CAPITAL FIRST but now converted  to this bank, processing fee was applicable. EMI need to pay of 5,600 rupees.  There is pre closure was applicable after 1 year and I get remainder message on time.\n",
      "Actual Label: 0\n",
      "Predicted Label: 1\n",
      "Review: When applied for Home Credit personal loan I have tried to contact  customer service but no proper response .There is no  contact number and app is also not responding  properly . The rate of interest was too high processing fee was okay .This loan was sanctioned  on time and if the rate of interest is reduced it will be good  and more customers will avail this loan.\n",
      "Actual Label: 1\n",
      "Predicted Label: 0\n",
      "Review: HDFC is ready to provide the loan even though my credit score was not upto the mark so that i took with them. They have given me a interest rate of 10.49%. Within the specified time, they have sanctioned my loan and the documentation process was smooth. There is no spot closure facility and we need to pay 5% penalty after the lockin period of 1 year.\n",
      "Actual Label: 1\n",
      "Predicted Label: 0\n",
      "Review: TATA CAPITAL has offered a rate of interest of 17% which is high. I got a call on time from bank and the process was done  smoothly. Once all done, they have sanctioned the loan within 10 days. The amount was requested for 3.5L but I got of 2.5L which is fine for me with tenure period 3 years. The processing  fee was applicable. I am not aware about pre closure option. EMI need to pay of 7,500 rupees.\n",
      "Actual Label: 1\n",
      "Predicted Label: 0\n",
      "Review: I'm not getting the loan from Bank end because at that time my credit score is low thats the reason i have bought a personal loan from Shubh Loan. They have offered me a interest rate of 32% per year. Taken the loan amount of Rs. 1 lakh for the duration of 1 year. If they reduced the interest rate and extend the tenure period, it will be useful for others.\n",
      "Actual Label: 1\n",
      "Predicted Label: 0\n",
      "Review: I have applied for HDFC Bank personal loan through online .I have  not taken this loan since no acknowledgement from bank end as well as from online  due to this reason i have not availed this loan .There should be some notification if apply for any products through online .\n",
      "Actual Label: 1\n",
      "Predicted Label: 0\n",
      "Review: I have taken personal loan directly through Capital First since got the offer.The rate of interest and the processing fee was very low and the agent gave a clear picture about the loan process.I have paid EMI  for 10 months .This loan was taken for family marriage  purpose.\n",
      "Actual Label: 0\n",
      "Predicted Label: 1\n",
      "Review: I have taken Tata Capital Personal loan through online .I have completed 4 EMI of this loan. The rate of interest and the processing fee was very high. The loan process was not shared by the agent .This loan was taken for education purpose only .The rate of interest has to be reduced this is my suggestion.\n",
      "Actual Label: 0\n",
      "Predicted Label: 1\n",
      "Review: I was applied a personal loan from HDFC through online. The rate of interest of around 14% which is high for my needs. So I contact banker to negotiate but they didn't do. The amount was sufficient for the loan amount with tenure period of 4 years. But due to high rate of interest closed the loan process from my end.\n",
      "Actual Label: 0\n",
      "Predicted Label: 1\n",
      "Review: My requirement was over hence not availed HDFC bank personal loan.I was not having any issues with rate of interest and the processing fee.I have submitted documents and there was proper callback as well as follow up .other than that there was no issues faced .According tomy experience the service was average.\n",
      "Actual Label: 0\n",
      "Predicted Label: 1\n",
      "Review: Fifteen years back, i have taken a personal loan from ICICI Bank. The loan amount was Rs. 50k at that time i opted for 2 years,  i was paying EMI very later so that remaining 2 years is pending. I am not able to pay, i  request to fore closure  and i have to pay Rs. 30k, they reduced Rs.17k they said it will affect my Credit Score.\n",
      "Actual Label: 1\n",
      "Predicted Label: 0\n",
      "Review: I have been taken  a personal loan from TATA CAPITAL on 1.5 years before via online. The loan amount of 3.5L with tenure period 2 years as per my request they provided the tenured which am happy. An interest rate is 11.49% of low. This loan includes insurance as well and the amount was deducted. EMI, need to pay of 11,700 rupees and preclosure is applicable.\n",
      "Actual Label: 0\n",
      "Predicted Label: 1\n",
      "Review: I'm a valuable customer of HDFC. I have taken two personal loan and holding the salary account from HDFC hence i have selected HDFC bank. No one visited to my place for collecting the documents. I have applied the loan amount of Rs. 5 lakhs and they have offered me a interest rate of 11% approximately. There is no proper follow up from HDFC bank.\n",
      "Actual Label: 0\n",
      "Predicted Label: 1\n",
      "Review: I have applied the personal loan for the house renovation. As per my salary, HDFC loan was suitable for me so that i have availed the loan with them. Verification person came to my home address and he doesn't visit to my office address after that i have lost the executive contact number and this loan was cancelled.\n",
      "Actual Label: 1\n",
      "Predicted Label: 0\n",
      "Review: Took my personal loan from Bajaj Finance, once i finished the consumer durable loan here they have provided me a pre-approved loan offer worth of Rs. 1 lakh. They have sanctioned the loan in 2 days, they called me and done the verification. They charged me an interest rate of 12.5%. I'm yet to pay the loan for 1.5 years where the total tenure period of the loan is 36 months.\n",
      "Actual Label: 0\n",
      "Predicted Label: 1\n",
      "Review: I have taken a personal loan from SBI, the loan amount was Rs. 10L. The rate of interest was high 14% and i am paying EMI 23,000 for the tenure period of 5years. I applied this loan directly through bank that was very easy process and i received this loan within 2 days,  pre closure charges are not known.\n",
      "Actual Label: 1\n",
      "Predicted Label: 0\n",
      "Review: HDFC customer service is good. The rate of interest is high of 17.5% and processing fee deducted  from the loan amount  of 11K. Since I am applying  the loan for first time fee was high.  I received the call after 2 days and then they sanctioned the loan by 15 days. The loan amount sufficient of 2.49L for tenure period of 48 months. EMI need to pay of 7,223 rupees.\n"
     ]
    }
   ],
   "source": [
    "print(\"*****[0 - Negative, 1 - Positive]*****\")\n",
    "k = 0\n",
    "for document, label, predicted_label in zip(text_test, y_test, mnb_tfidf_predictions):\n",
    "    for i in range(0,2):\n",
    "        if label == i and predicted_label != i:\n",
    "            print(\"Actual Label:\", +label)\n",
    "            print(\"Predicted Label:\", +predicted_label)\n",
    "            print(\"Review:\", re.sub('\\n','', document))"
   ]
  },
  {
   "cell_type": "code",
   "execution_count": null,
   "metadata": {},
   "outputs": [],
   "source": []
  }
 ],
 "metadata": {
  "kernelspec": {
   "display_name": "Python 3",
   "language": "python",
   "name": "python3"
  },
  "language_info": {
   "codemirror_mode": {
    "name": "ipython",
    "version": 3
   },
   "file_extension": ".py",
   "mimetype": "text/x-python",
   "name": "python",
   "nbconvert_exporter": "python",
   "pygments_lexer": "ipython3",
   "version": "3.7.4"
  }
 },
 "nbformat": 4,
 "nbformat_minor": 2
}
